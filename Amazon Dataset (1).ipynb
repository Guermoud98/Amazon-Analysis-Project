{
 "cells": [
  {
   "cell_type": "code",
   "execution_count": 1,
   "id": "157a5576",
   "metadata": {},
   "outputs": [],
   "source": [
    "import numpy as np\n",
    "import pandas as pd\n",
    "import matplotlib.pyplot as plt \n",
    "import spacy\n",
    "import seaborn as sns\n",
    "#%pip install spacy\n"
   ]
  },
  {
   "cell_type": "markdown",
   "id": "5daec1f8",
   "metadata": {},
   "source": [
    "<span style=\"color:red;font-weight:bold;font-size:larger;\">Explication :</span>  \n",
    "\n",
    "Les deux premières lignes importent les bibliothèques `numpy` et `pandas`, qui sont largement utilisées pour la manipulation et l'analyse des données en Python. La troisième ligne importe `matplotlib.pyplot` pour créer des visualisations graphiques. La quatrième ligne utilise l'outil `pip` pour installer la bibliothèque `spacy`. Nous l'importons afin de l'utiliser ultérieurement dans la quatrième question pour calculer la similarité entre des phrases."
   ]
  },
  {
   "cell_type": "code",
   "execution_count": 2,
   "id": "79971afd",
   "metadata": {},
   "outputs": [],
   "source": [
    "if not spacy.util.is_package(\"en_core_web_md\"):\n",
    "    # Install the model\n",
    "    spacy.cli.download(\"en_core_web_md\")\n",
    "    \n",
    "# Load the installed model\n",
    "nlp = spacy.load(\"en_core_web_md\")"
   ]
  },
  {
   "cell_type": "markdown",
   "id": "a005e609",
   "metadata": {},
   "source": [
    "<span style=\"color:red;font-weight:bold;font-size:larger;\">Explication :</span> \n",
    "\n",
    "Ces lignes de code ont été utilisées pour identifier des contenus similaires en faisant correspondre des caractéristiques textuelles. Elles vérifient d'abord si le modèle linguistique `en_core_web_md` est installé, et si ce n'est pas le cas, le télécharge. Ensuite, le modèle est chargé, ce qui permet d'exploiter ses fonctionnalités pour le traitement et l'analyse de texte, notamment pour calculer la similarité entre des phrases. Ainsi, ces étapes préparent l'environnement en s'assurant que les ressources nécessaires sont disponibles pour effectuer cette tâche spécifique de correspondance textuelle."
   ]
  },
  {
   "cell_type": "code",
   "execution_count": 3,
   "id": "15f304ae",
   "metadata": {
    "scrolled": true
   },
   "outputs": [
    {
     "data": {
      "text/html": [
       "<div>\n",
       "<style scoped>\n",
       "    .dataframe tbody tr th:only-of-type {\n",
       "        vertical-align: middle;\n",
       "    }\n",
       "\n",
       "    .dataframe tbody tr th {\n",
       "        vertical-align: top;\n",
       "    }\n",
       "\n",
       "    .dataframe thead th {\n",
       "        text-align: right;\n",
       "    }\n",
       "</style>\n",
       "<table border=\"1\" class=\"dataframe\">\n",
       "  <thead>\n",
       "    <tr style=\"text-align: right;\">\n",
       "      <th></th>\n",
       "      <th>show_id</th>\n",
       "      <th>type</th>\n",
       "      <th>title</th>\n",
       "      <th>director</th>\n",
       "      <th>cast</th>\n",
       "      <th>country</th>\n",
       "      <th>date_added</th>\n",
       "      <th>release_year</th>\n",
       "      <th>rating</th>\n",
       "      <th>duration</th>\n",
       "      <th>listed_in</th>\n",
       "      <th>description</th>\n",
       "    </tr>\n",
       "  </thead>\n",
       "  <tbody>\n",
       "    <tr>\n",
       "      <th>0</th>\n",
       "      <td>s1</td>\n",
       "      <td>Movie</td>\n",
       "      <td>The Grand Seduction</td>\n",
       "      <td>Don McKellar</td>\n",
       "      <td>Brendan Gleeson, Taylor Kitsch, Gordon Pinsent</td>\n",
       "      <td>Canada</td>\n",
       "      <td>March 30, 2021</td>\n",
       "      <td>2014</td>\n",
       "      <td>NaN</td>\n",
       "      <td>113 min</td>\n",
       "      <td>Comedy, Drama</td>\n",
       "      <td>A small fishing village must procure a local d...</td>\n",
       "    </tr>\n",
       "    <tr>\n",
       "      <th>1</th>\n",
       "      <td>s2</td>\n",
       "      <td>Movie</td>\n",
       "      <td>Take Care Good Night</td>\n",
       "      <td>Girish Joshi</td>\n",
       "      <td>Mahesh Manjrekar, Abhay Mahajan, Sachin Khedekar</td>\n",
       "      <td>India</td>\n",
       "      <td>March 30, 2021</td>\n",
       "      <td>2018</td>\n",
       "      <td>13+</td>\n",
       "      <td>110 min</td>\n",
       "      <td>Drama, International</td>\n",
       "      <td>A Metro Family decides to fight a Cyber Crimin...</td>\n",
       "    </tr>\n",
       "    <tr>\n",
       "      <th>2</th>\n",
       "      <td>s3</td>\n",
       "      <td>Movie</td>\n",
       "      <td>Secrets of Deception</td>\n",
       "      <td>Josh Webber</td>\n",
       "      <td>Tom Sizemore, Lorenzo Lamas, Robert LaSardo, R...</td>\n",
       "      <td>United States</td>\n",
       "      <td>March 30, 2021</td>\n",
       "      <td>2017</td>\n",
       "      <td>NaN</td>\n",
       "      <td>74 min</td>\n",
       "      <td>Action, Drama, Suspense</td>\n",
       "      <td>After a man discovers his wife is cheating on ...</td>\n",
       "    </tr>\n",
       "    <tr>\n",
       "      <th>3</th>\n",
       "      <td>s4</td>\n",
       "      <td>Movie</td>\n",
       "      <td>Pink: Staying True</td>\n",
       "      <td>Sonia Anderson</td>\n",
       "      <td>Interviews with: Pink, Adele, Beyoncé, Britney...</td>\n",
       "      <td>United States</td>\n",
       "      <td>March 30, 2021</td>\n",
       "      <td>2014</td>\n",
       "      <td>NaN</td>\n",
       "      <td>69 min</td>\n",
       "      <td>Documentary</td>\n",
       "      <td>Pink breaks the mold once again, bringing her ...</td>\n",
       "    </tr>\n",
       "    <tr>\n",
       "      <th>4</th>\n",
       "      <td>s5</td>\n",
       "      <td>Movie</td>\n",
       "      <td>Monster Maker</td>\n",
       "      <td>Giles Foster</td>\n",
       "      <td>Harry Dean Stanton, Kieran O'Brien, George Cos...</td>\n",
       "      <td>United Kingdom</td>\n",
       "      <td>March 30, 2021</td>\n",
       "      <td>1989</td>\n",
       "      <td>NaN</td>\n",
       "      <td>45 min</td>\n",
       "      <td>Drama, Fantasy</td>\n",
       "      <td>Teenage Matt Banting wants to work with a famo...</td>\n",
       "    </tr>\n",
       "  </tbody>\n",
       "</table>\n",
       "</div>"
      ],
      "text/plain": [
       "  show_id   type                 title        director  \\\n",
       "0      s1  Movie   The Grand Seduction    Don McKellar   \n",
       "1      s2  Movie  Take Care Good Night    Girish Joshi   \n",
       "2      s3  Movie  Secrets of Deception     Josh Webber   \n",
       "3      s4  Movie    Pink: Staying True  Sonia Anderson   \n",
       "4      s5  Movie         Monster Maker    Giles Foster   \n",
       "\n",
       "                                                cast         country  \\\n",
       "0     Brendan Gleeson, Taylor Kitsch, Gordon Pinsent          Canada   \n",
       "1   Mahesh Manjrekar, Abhay Mahajan, Sachin Khedekar           India   \n",
       "2  Tom Sizemore, Lorenzo Lamas, Robert LaSardo, R...   United States   \n",
       "3  Interviews with: Pink, Adele, Beyoncé, Britney...   United States   \n",
       "4  Harry Dean Stanton, Kieran O'Brien, George Cos...  United Kingdom   \n",
       "\n",
       "       date_added  release_year rating duration                listed_in  \\\n",
       "0  March 30, 2021          2014    NaN  113 min            Comedy, Drama   \n",
       "1  March 30, 2021          2018    13+  110 min     Drama, International   \n",
       "2  March 30, 2021          2017    NaN   74 min  Action, Drama, Suspense   \n",
       "3  March 30, 2021          2014    NaN   69 min              Documentary   \n",
       "4  March 30, 2021          1989    NaN   45 min           Drama, Fantasy   \n",
       "\n",
       "                                         description  \n",
       "0  A small fishing village must procure a local d...  \n",
       "1  A Metro Family decides to fight a Cyber Crimin...  \n",
       "2  After a man discovers his wife is cheating on ...  \n",
       "3  Pink breaks the mold once again, bringing her ...  \n",
       "4  Teenage Matt Banting wants to work with a famo...  "
      ]
     },
     "execution_count": 3,
     "metadata": {},
     "output_type": "execute_result"
    }
   ],
   "source": [
    "df = pd.read_csv(\"C:\\\\Users\\\\Administrateur\\\\Desktop\\\\Amazon-Analysis-Project\\\\amazon.csv\")\n",
    "df.head(5)"
   ]
  },
  {
   "cell_type": "markdown",
   "id": "cf36be17",
   "metadata": {},
   "source": [
    "<span style=\"color:red;font-weight:bold;font-size:larger;\">Explication :</span> \n",
    "\n",
    "Ces lignes de code chargent un fichier `CSV` situé dans le chemin \"C:\\Users\\Administrateur\\Desktop\\Amazon-Analysis-Project\\amazon.csv\" et le stockent dans un DataFrame appelé \"df\" à l'aide de la fonction \"pd.read_csv()\". Ensuite, la méthode \"head(5)\" est utilisée pour afficher les cinq premières lignes du DataFrame, ce qui permet d'avoir un aperçu des données et de vérifier si elles ont été chargées correctement."
   ]
  },
  {
   "cell_type": "code",
   "execution_count": 4,
   "id": "450d634c",
   "metadata": {
    "scrolled": false
   },
   "outputs": [
    {
     "data": {
      "text/plain": [
       "show_id            0\n",
       "type               0\n",
       "title              0\n",
       "director        2082\n",
       "cast            1233\n",
       "country         8996\n",
       "date_added      9513\n",
       "release_year       0\n",
       "rating           337\n",
       "duration           0\n",
       "listed_in          0\n",
       "description        0\n",
       "dtype: int64"
      ]
     },
     "execution_count": 4,
     "metadata": {},
     "output_type": "execute_result"
    }
   ],
   "source": [
    "df.isnull().sum()"
   ]
  },
  {
   "cell_type": "markdown",
   "id": "e7a5fa9d",
   "metadata": {},
   "source": [
    "<span style=\"color:red;font-weight:bold;font-size:larger;\">Explication :</span> \n",
    "La ligne de code df.isnull() vérifie si chaque valeur dans le DataFrame df est nulle ou non, renvoyant un DataFrame de booléens avec la même taille. Ensuite, la méthode sum() est utilisée pour calculer la somme de chaque colonne, fournissant ainsi le nombre de valeurs nulles dans chaque colonne de df."
   ]
  },
  {
   "cell_type": "code",
   "execution_count": 5,
   "id": "05252b21",
   "metadata": {
    "scrolled": true
   },
   "outputs": [
    {
     "data": {
      "text/plain": [
       "show_id         object\n",
       "type            object\n",
       "title           object\n",
       "director        object\n",
       "cast            object\n",
       "country         object\n",
       "date_added      object\n",
       "release_year     int64\n",
       "rating          object\n",
       "duration        object\n",
       "listed_in       object\n",
       "description     object\n",
       "dtype: object"
      ]
     },
     "execution_count": 5,
     "metadata": {},
     "output_type": "execute_result"
    }
   ],
   "source": [
    "df.dtypes"
   ]
  },
  {
   "cell_type": "markdown",
   "id": "3d9d9b3c",
   "metadata": {},
   "source": [
    "<span style=\"color:red;font-weight:bold;font-size:larger;\">Explication :</span>\n",
    "\n",
    "La ligne de code df.dtypes renvoie le type de données de chaque colonne dans le DataFrame df. Cela permet de vérifier le type de données de chaque variable et de s'assurer qu'elles sont correctement définies pour les analyses ultérieures."
   ]
  },
  {
   "cell_type": "code",
   "execution_count": 6,
   "id": "64a7c861",
   "metadata": {
    "scrolled": false
   },
   "outputs": [
    {
     "data": {
      "text/html": [
       "<div>\n",
       "<style scoped>\n",
       "    .dataframe tbody tr th:only-of-type {\n",
       "        vertical-align: middle;\n",
       "    }\n",
       "\n",
       "    .dataframe tbody tr th {\n",
       "        vertical-align: top;\n",
       "    }\n",
       "\n",
       "    .dataframe thead th {\n",
       "        text-align: right;\n",
       "    }\n",
       "</style>\n",
       "<table border=\"1\" class=\"dataframe\">\n",
       "  <thead>\n",
       "    <tr style=\"text-align: right;\">\n",
       "      <th></th>\n",
       "      <th>show_id</th>\n",
       "      <th>type</th>\n",
       "      <th>title</th>\n",
       "      <th>director</th>\n",
       "      <th>cast</th>\n",
       "      <th>country</th>\n",
       "      <th>date_added</th>\n",
       "      <th>release_year</th>\n",
       "      <th>rating</th>\n",
       "      <th>duration</th>\n",
       "      <th>listed_in</th>\n",
       "      <th>description</th>\n",
       "    </tr>\n",
       "  </thead>\n",
       "  <tbody>\n",
       "    <tr>\n",
       "      <th>0</th>\n",
       "      <td>False</td>\n",
       "      <td>False</td>\n",
       "      <td>False</td>\n",
       "      <td>False</td>\n",
       "      <td>False</td>\n",
       "      <td>False</td>\n",
       "      <td>False</td>\n",
       "      <td>False</td>\n",
       "      <td>True</td>\n",
       "      <td>False</td>\n",
       "      <td>False</td>\n",
       "      <td>False</td>\n",
       "    </tr>\n",
       "    <tr>\n",
       "      <th>1</th>\n",
       "      <td>False</td>\n",
       "      <td>False</td>\n",
       "      <td>False</td>\n",
       "      <td>False</td>\n",
       "      <td>False</td>\n",
       "      <td>False</td>\n",
       "      <td>False</td>\n",
       "      <td>False</td>\n",
       "      <td>False</td>\n",
       "      <td>False</td>\n",
       "      <td>False</td>\n",
       "      <td>False</td>\n",
       "    </tr>\n",
       "    <tr>\n",
       "      <th>2</th>\n",
       "      <td>False</td>\n",
       "      <td>False</td>\n",
       "      <td>False</td>\n",
       "      <td>False</td>\n",
       "      <td>False</td>\n",
       "      <td>False</td>\n",
       "      <td>False</td>\n",
       "      <td>False</td>\n",
       "      <td>True</td>\n",
       "      <td>False</td>\n",
       "      <td>False</td>\n",
       "      <td>False</td>\n",
       "    </tr>\n",
       "    <tr>\n",
       "      <th>3</th>\n",
       "      <td>False</td>\n",
       "      <td>False</td>\n",
       "      <td>False</td>\n",
       "      <td>False</td>\n",
       "      <td>False</td>\n",
       "      <td>False</td>\n",
       "      <td>False</td>\n",
       "      <td>False</td>\n",
       "      <td>True</td>\n",
       "      <td>False</td>\n",
       "      <td>False</td>\n",
       "      <td>False</td>\n",
       "    </tr>\n",
       "    <tr>\n",
       "      <th>4</th>\n",
       "      <td>False</td>\n",
       "      <td>False</td>\n",
       "      <td>False</td>\n",
       "      <td>False</td>\n",
       "      <td>False</td>\n",
       "      <td>False</td>\n",
       "      <td>False</td>\n",
       "      <td>False</td>\n",
       "      <td>True</td>\n",
       "      <td>False</td>\n",
       "      <td>False</td>\n",
       "      <td>False</td>\n",
       "    </tr>\n",
       "    <tr>\n",
       "      <th>...</th>\n",
       "      <td>...</td>\n",
       "      <td>...</td>\n",
       "      <td>...</td>\n",
       "      <td>...</td>\n",
       "      <td>...</td>\n",
       "      <td>...</td>\n",
       "      <td>...</td>\n",
       "      <td>...</td>\n",
       "      <td>...</td>\n",
       "      <td>...</td>\n",
       "      <td>...</td>\n",
       "      <td>...</td>\n",
       "    </tr>\n",
       "    <tr>\n",
       "      <th>9663</th>\n",
       "      <td>False</td>\n",
       "      <td>False</td>\n",
       "      <td>False</td>\n",
       "      <td>False</td>\n",
       "      <td>False</td>\n",
       "      <td>True</td>\n",
       "      <td>True</td>\n",
       "      <td>False</td>\n",
       "      <td>False</td>\n",
       "      <td>False</td>\n",
       "      <td>False</td>\n",
       "      <td>False</td>\n",
       "    </tr>\n",
       "    <tr>\n",
       "      <th>9664</th>\n",
       "      <td>False</td>\n",
       "      <td>False</td>\n",
       "      <td>False</td>\n",
       "      <td>True</td>\n",
       "      <td>False</td>\n",
       "      <td>True</td>\n",
       "      <td>True</td>\n",
       "      <td>False</td>\n",
       "      <td>False</td>\n",
       "      <td>False</td>\n",
       "      <td>False</td>\n",
       "      <td>False</td>\n",
       "    </tr>\n",
       "    <tr>\n",
       "      <th>9665</th>\n",
       "      <td>False</td>\n",
       "      <td>False</td>\n",
       "      <td>False</td>\n",
       "      <td>False</td>\n",
       "      <td>False</td>\n",
       "      <td>True</td>\n",
       "      <td>True</td>\n",
       "      <td>False</td>\n",
       "      <td>False</td>\n",
       "      <td>False</td>\n",
       "      <td>False</td>\n",
       "      <td>False</td>\n",
       "    </tr>\n",
       "    <tr>\n",
       "      <th>9666</th>\n",
       "      <td>False</td>\n",
       "      <td>False</td>\n",
       "      <td>False</td>\n",
       "      <td>True</td>\n",
       "      <td>False</td>\n",
       "      <td>True</td>\n",
       "      <td>True</td>\n",
       "      <td>False</td>\n",
       "      <td>False</td>\n",
       "      <td>False</td>\n",
       "      <td>False</td>\n",
       "      <td>False</td>\n",
       "    </tr>\n",
       "    <tr>\n",
       "      <th>9667</th>\n",
       "      <td>False</td>\n",
       "      <td>False</td>\n",
       "      <td>False</td>\n",
       "      <td>False</td>\n",
       "      <td>False</td>\n",
       "      <td>True</td>\n",
       "      <td>True</td>\n",
       "      <td>False</td>\n",
       "      <td>False</td>\n",
       "      <td>False</td>\n",
       "      <td>False</td>\n",
       "      <td>False</td>\n",
       "    </tr>\n",
       "  </tbody>\n",
       "</table>\n",
       "<p>9668 rows × 12 columns</p>\n",
       "</div>"
      ],
      "text/plain": [
       "      show_id   type  title  director   cast  country  date_added  \\\n",
       "0       False  False  False     False  False    False       False   \n",
       "1       False  False  False     False  False    False       False   \n",
       "2       False  False  False     False  False    False       False   \n",
       "3       False  False  False     False  False    False       False   \n",
       "4       False  False  False     False  False    False       False   \n",
       "...       ...    ...    ...       ...    ...      ...         ...   \n",
       "9663    False  False  False     False  False     True        True   \n",
       "9664    False  False  False      True  False     True        True   \n",
       "9665    False  False  False     False  False     True        True   \n",
       "9666    False  False  False      True  False     True        True   \n",
       "9667    False  False  False     False  False     True        True   \n",
       "\n",
       "      release_year  rating  duration  listed_in  description  \n",
       "0            False    True     False      False        False  \n",
       "1            False   False     False      False        False  \n",
       "2            False    True     False      False        False  \n",
       "3            False    True     False      False        False  \n",
       "4            False    True     False      False        False  \n",
       "...            ...     ...       ...        ...          ...  \n",
       "9663         False   False     False      False        False  \n",
       "9664         False   False     False      False        False  \n",
       "9665         False   False     False      False        False  \n",
       "9666         False   False     False      False        False  \n",
       "9667         False   False     False      False        False  \n",
       "\n",
       "[9668 rows x 12 columns]"
      ]
     },
     "execution_count": 6,
     "metadata": {},
     "output_type": "execute_result"
    }
   ],
   "source": [
    "df.isnull()"
   ]
  },
  {
   "cell_type": "markdown",
   "id": "dd023097",
   "metadata": {},
   "source": [
    "<span style=\"color:red;font-weight:bold;font-size:larger;\">Explication :</span> \n",
    "\n",
    "La ligne de code df.isnull() renvoie un DataFrame contenant des valeurs booléennes, où chaque cellule est True si la valeur correspondante dans le DataFrame df est nulle (NaN) et False sinon. Cela permet de vérifier la présence de valeurs manquantes dans le DataFrame."
   ]
  },
  {
   "cell_type": "code",
   "execution_count": 7,
   "id": "6a4b604a",
   "metadata": {
    "scrolled": true
   },
   "outputs": [
    {
     "data": {
      "text/plain": [
       "Drama              986\n",
       "Comedy             536\n",
       "Drama, Suspense    399\n",
       "Comedy, Drama      377\n",
       "Animation, Kids    356\n",
       "Name: listed_in, dtype: int64"
      ]
     },
     "execution_count": 7,
     "metadata": {},
     "output_type": "execute_result"
    }
   ],
   "source": [
    "# top 5 meilleurs catégories\n",
    "\n",
    "top_five_category = df[\"listed_in\"].value_counts().head(5)\n",
    "top_five_category"
   ]
  },
  {
   "cell_type": "markdown",
   "id": "d99faa7a",
   "metadata": {},
   "source": [
    "<span style=\"color:red;font-weight:bold;font-size:larger;\">Explication :</span> \n",
    "\n",
    "La variable top_five_category contient les cinq meilleures catégories de contenu les plus fréquentes dans la colonne \"listed_in\" du DataFrame df. La méthode value_counts() compte le nombre d'occurrences de chaque catégorie, puis la méthode head(5) sélectionne les cinq premières catégories les plus fréquentes."
   ]
  },
  {
   "cell_type": "code",
   "execution_count": 8,
   "id": "499cd9c6",
   "metadata": {
    "scrolled": true
   },
   "outputs": [
    {
     "data": {
      "text/plain": [
       "Mark Knight              113\n",
       "Cannis Holder             61\n",
       "Moonbug Entertainment     37\n",
       "Jay Chapman               34\n",
       "Arthur van Merwijk        30\n",
       "Name: director, dtype: int64"
      ]
     },
     "execution_count": 8,
     "metadata": {},
     "output_type": "execute_result"
    }
   ],
   "source": [
    "# Top 5 des réalisateurs\n",
    "\n",
    "top_five_director = df[\"director\"].value_counts().head(5)\n",
    "top_five_director  "
   ]
  },
  {
   "cell_type": "markdown",
   "id": "e3f17a9f",
   "metadata": {},
   "source": [
    "<span style=\"color:red;font-weight:bold;font-size:larger;\">Explication :</span> \n",
    "\n",
    "La variable top_five_director contient les cinq réalisateurs les plus fréquents dans la colonne \"director\" du DataFrame df. La méthode value_counts() compte le nombre d'occurrences de chaque réalisateur, puis la méthode head(5) sélectionne les cinq réalisateurs les plus fréquents."
   ]
  },
  {
   "cell_type": "code",
   "execution_count": 9,
   "id": "15c638b3",
   "metadata": {
    "scrolled": false
   },
   "outputs": [
    {
     "data": {
      "text/plain": [
       "Maggie Binkley        56\n",
       "1                     35\n",
       "Gene Autry            32\n",
       " Nassar               30\n",
       " Champion             29\n",
       "Anne-Marie Newland    25\n",
       " Prakash Raj          23\n",
       "Roy Rogers            23\n",
       "Cassandra Peterson    22\n",
       "John Wayne            21\n",
       "Name: cast, dtype: int64"
      ]
     },
     "execution_count": 9,
     "metadata": {},
     "output_type": "execute_result"
    }
   ],
   "source": [
    "# Les dix meilleurs acteurs\n",
    "\n",
    "top_ten_actors = df['cast'].str.split(',')\n",
    "top_ten_actors.explode().value_counts().head(10)\n"
   ]
  },
  {
   "cell_type": "markdown",
   "id": "54d53c11",
   "metadata": {},
   "source": [
    "<span style=\"color:red;font-weight:bold;font-size:larger;\">Explication :</span>\n",
    "\n",
    "La variable top_ten_actors contient une série de listes d'acteurs pour chaque entrée dans la colonne \"cast\" du DataFrame df. En utilisant la méthode str.split(','), les noms d'acteurs sont séparés en listes. Ensuite, la méthode explode() est utilisée pour transformer la série de listes en une série individuelle avec un acteur par ligne. La méthode value_counts() compte le nombre d'occurrences de chaque acteur, et enfin, la méthode head(10) sélectionne les dix acteurs les plus fréquents. Ainsi, top_ten_actors représente les dix acteurs les plus populaires dans le dataset."
   ]
  },
  {
   "cell_type": "code",
   "execution_count": 10,
   "id": "056fb2a3",
   "metadata": {},
   "outputs": [
    {
     "data": {
      "text/html": [
       "<div>\n",
       "<style scoped>\n",
       "    .dataframe tbody tr th:only-of-type {\n",
       "        vertical-align: middle;\n",
       "    }\n",
       "\n",
       "    .dataframe tbody tr th {\n",
       "        vertical-align: top;\n",
       "    }\n",
       "\n",
       "    .dataframe thead th {\n",
       "        text-align: right;\n",
       "    }\n",
       "</style>\n",
       "<table border=\"1\" class=\"dataframe\">\n",
       "  <thead>\n",
       "    <tr style=\"text-align: right;\">\n",
       "      <th></th>\n",
       "      <th>duration</th>\n",
       "      <th>type</th>\n",
       "    </tr>\n",
       "  </thead>\n",
       "  <tbody>\n",
       "    <tr>\n",
       "      <th>800</th>\n",
       "      <td>9 Seasons</td>\n",
       "      <td>TV Show</td>\n",
       "    </tr>\n",
       "    <tr>\n",
       "      <th>185</th>\n",
       "      <td>9 Seasons</td>\n",
       "      <td>TV Show</td>\n",
       "    </tr>\n",
       "    <tr>\n",
       "      <th>1081</th>\n",
       "      <td>9 Seasons</td>\n",
       "      <td>TV Show</td>\n",
       "    </tr>\n",
       "    <tr>\n",
       "      <th>3571</th>\n",
       "      <td>9 Seasons</td>\n",
       "      <td>TV Show</td>\n",
       "    </tr>\n",
       "    <tr>\n",
       "      <th>867</th>\n",
       "      <td>9 Seasons</td>\n",
       "      <td>TV Show</td>\n",
       "    </tr>\n",
       "  </tbody>\n",
       "</table>\n",
       "</div>"
      ],
      "text/plain": [
       "       duration     type\n",
       "800   9 Seasons  TV Show\n",
       "185   9 Seasons  TV Show\n",
       "1081  9 Seasons  TV Show\n",
       "3571  9 Seasons  TV Show\n",
       "867   9 Seasons  TV Show"
      ]
     },
     "execution_count": 10,
     "metadata": {},
     "output_type": "execute_result"
    }
   ],
   "source": [
    "# Les cinq meilleures séries télévisées avec le plus grand nombre de saisons.\n",
    "\n",
    "tv_shows = df[df['type'] == 'TV Show']\n",
    "tv_shows.sort_values(by='duration', ascending=False).head(5)[['duration', 'type']]"
   ]
  },
  {
   "cell_type": "markdown",
   "id": "f322eeac",
   "metadata": {},
   "source": [
    "<span style=\"color:red;font-weight:bold;font-size:larger;\">Explication :</span> \n",
    "\n",
    "La variable tv_shows est créée en filtrant le DataFrame df pour ne contenir que les entrées de type 'TV Show'. Ensuite, les données sont triées par la colonne 'duration' de manière décroissante en utilisant la méthode sort_values(). La méthode head(5) sélectionne les cinq premières lignes, correspondant aux séries télévisées avec le plus grand nombre de saisons. Enfin, les colonnes 'duration' et 'type' sont extraites en utilisant la notation avec les crochets pour obtenir les informations sur la durée et le type des séries télévisées. Ainsi, la sortie représente les cinq meilleures séries télévisées avec le plus grand nombre de saisons, affichant la durée et le type de chaque série."
   ]
  },
  {
   "cell_type": "code",
   "execution_count": 11,
   "id": "2129c0fd",
   "metadata": {
    "scrolled": false
   },
   "outputs": [
    {
     "data": {
      "text/plain": [
       "Movie      7814\n",
       "TV Show    1854\n",
       "Name: type, dtype: int64"
      ]
     },
     "execution_count": 11,
     "metadata": {},
     "output_type": "execute_result"
    }
   ],
   "source": [
    "df[\"type\"].value_counts()"
   ]
  },
  {
   "cell_type": "markdown",
   "id": "6e9fa579",
   "metadata": {},
   "source": [
    "<span style=\"color:red;font-weight:bold;font-size:larger;\">Explication :</span> \n",
    "\n",
    "La ligne de code df[\"type\"].value_counts() retourne le décompte du nombre d'occurrences de chaque valeur dans la colonne \"type\" du DataFrame df. Elle renvoie une série qui affiche le nombre de films et de séries télévisées présents dans le jeu de données, en les regroupant par type. Ainsi, on obtient le nombre total de films et de séries télévisées dans le DataFrame."
   ]
  },
  {
   "cell_type": "code",
   "execution_count": 12,
   "id": "19608c3a",
   "metadata": {
    "scrolled": false
   },
   "outputs": [
    {
     "data": {
      "text/plain": [
       "0       (A, small, fishing, village, must, procure, a,...\n",
       "1       (A, Metro, Family, decides, to, fight, a, Cybe...\n",
       "2       (After, a, man, discovers, his, wife, is, chea...\n",
       "3       (Pink, breaks, the, mold, once, again, ,, brin...\n",
       "4       (Teenage, Matt, Banting, wants, to, work, with...\n",
       "                              ...                        \n",
       "9663    (New, York, City, street, principles, get, an,...\n",
       "9664    (This, is, Earth, ,, 2100AD, -, and, these, ar...\n",
       "9665    (In, war, -, torn, Eastern, Europe, ,, a, worl...\n",
       "9666    (The, series, tells, the, story, of, Diego, Ma...\n",
       "9667    (Harry, Brown, ,, starring, two, -, time, Acad...\n",
       "Name: processed_text_column, Length: 9668, dtype: object"
      ]
     },
     "execution_count": 12,
     "metadata": {},
     "output_type": "execute_result"
    }
   ],
   "source": [
    "# Identifier des contenus similaires en faisant correspondre des caractéristiques textuelles\n",
    "\n",
    "processed_texts = []\n",
    "for text in df['description']:\n",
    "    doc = nlp(text)\n",
    "    processed_texts.append(doc)\n",
    "df['processed_text_column'] = processed_texts\n",
    "df['processed_text_column']"
   ]
  },
  {
   "cell_type": "markdown",
   "id": "32fb694a",
   "metadata": {},
   "source": [
    "<span style=\"color:red;font-weight:bold;font-size:larger;\">Explication :</span> \n",
    "\n",
    "Dans ce code, nous itérons à travers la colonne 'description' du DataFrame df et traitons chaque texte en utilisant la bibliothèque spaCy. Pour chaque texte, nous créons un objet doc en utilisant la méthode nlp(text) qui effectue le traitement linguistique sur le texte. Le traitement consiste à analyser et à segmenter chaque texte en mots, en identifiant les entités nommées, en lemmatisant les mots, en détectant les phrases, etc. Ensuite, nous ajoutons l'objet doc à la liste processed_texts.\n",
    " \n",
    "Après, nous créons une nouvelle colonne 'processed_text_column' dans le DataFrame df et lui attribuons les valeurs de la liste processed_texts. Cette colonne contient les objets spaCy représentant les textes prétraités.\n",
    "\n",
    "Le dernier appel à df['processed_text_column'] affiche le contenu de cette colonne dans le DataFrame."
   ]
  },
  {
   "cell_type": "code",
   "execution_count": 13,
   "id": "7c1d99e0",
   "metadata": {},
   "outputs": [
    {
     "name": "stderr",
     "output_type": "stream",
     "text": [
      "C:\\Users\\Administrateur\\AppData\\Local\\Temp\\ipykernel_10708\\3616034610.py:5: UserWarning: [W008] Evaluating Doc.similarity based on empty vectors.\n",
      "  similarity = reference_doc.similarity(doc)\n"
     ]
    },
    {
     "data": {
      "text/html": [
       "<div>\n",
       "<style scoped>\n",
       "    .dataframe tbody tr th:only-of-type {\n",
       "        vertical-align: middle;\n",
       "    }\n",
       "\n",
       "    .dataframe tbody tr th {\n",
       "        vertical-align: top;\n",
       "    }\n",
       "\n",
       "    .dataframe thead th {\n",
       "        text-align: right;\n",
       "    }\n",
       "</style>\n",
       "<table border=\"1\" class=\"dataframe\">\n",
       "  <thead>\n",
       "    <tr style=\"text-align: right;\">\n",
       "      <th></th>\n",
       "      <th>processed_text_column</th>\n",
       "      <th>Similarity</th>\n",
       "    </tr>\n",
       "  </thead>\n",
       "  <tbody>\n",
       "    <tr>\n",
       "      <th>0</th>\n",
       "      <td>(A, small, fishing, village, must, procure, a,...</td>\n",
       "      <td>1.000000</td>\n",
       "    </tr>\n",
       "    <tr>\n",
       "      <th>1</th>\n",
       "      <td>(A, Metro, Family, decides, to, fight, a, Cybe...</td>\n",
       "      <td>0.870618</td>\n",
       "    </tr>\n",
       "    <tr>\n",
       "      <th>2</th>\n",
       "      <td>(After, a, man, discovers, his, wife, is, chea...</td>\n",
       "      <td>0.825046</td>\n",
       "    </tr>\n",
       "    <tr>\n",
       "      <th>3</th>\n",
       "      <td>(Pink, breaks, the, mold, once, again, ,, brin...</td>\n",
       "      <td>0.927712</td>\n",
       "    </tr>\n",
       "    <tr>\n",
       "      <th>4</th>\n",
       "      <td>(Teenage, Matt, Banting, wants, to, work, with...</td>\n",
       "      <td>0.909972</td>\n",
       "    </tr>\n",
       "    <tr>\n",
       "      <th>...</th>\n",
       "      <td>...</td>\n",
       "      <td>...</td>\n",
       "    </tr>\n",
       "    <tr>\n",
       "      <th>9663</th>\n",
       "      <td>(New, York, City, street, principles, get, an,...</td>\n",
       "      <td>0.717157</td>\n",
       "    </tr>\n",
       "    <tr>\n",
       "      <th>9664</th>\n",
       "      <td>(This, is, Earth, ,, 2100AD, -, and, these, ar...</td>\n",
       "      <td>0.800734</td>\n",
       "    </tr>\n",
       "    <tr>\n",
       "      <th>9665</th>\n",
       "      <td>(In, war, -, torn, Eastern, Europe, ,, a, worl...</td>\n",
       "      <td>0.766100</td>\n",
       "    </tr>\n",
       "    <tr>\n",
       "      <th>9666</th>\n",
       "      <td>(The, series, tells, the, story, of, Diego, Ma...</td>\n",
       "      <td>0.819886</td>\n",
       "    </tr>\n",
       "    <tr>\n",
       "      <th>9667</th>\n",
       "      <td>(Harry, Brown, ,, starring, two, -, time, Acad...</td>\n",
       "      <td>0.842674</td>\n",
       "    </tr>\n",
       "  </tbody>\n",
       "</table>\n",
       "<p>9668 rows × 2 columns</p>\n",
       "</div>"
      ],
      "text/plain": [
       "                                  processed_text_column  Similarity\n",
       "0     (A, small, fishing, village, must, procure, a,...    1.000000\n",
       "1     (A, Metro, Family, decides, to, fight, a, Cybe...    0.870618\n",
       "2     (After, a, man, discovers, his, wife, is, chea...    0.825046\n",
       "3     (Pink, breaks, the, mold, once, again, ,, brin...    0.927712\n",
       "4     (Teenage, Matt, Banting, wants, to, work, with...    0.909972\n",
       "...                                                 ...         ...\n",
       "9663  (New, York, City, street, principles, get, an,...    0.717157\n",
       "9664  (This, is, Earth, ,, 2100AD, -, and, these, ar...    0.800734\n",
       "9665  (In, war, -, torn, Eastern, Europe, ,, a, worl...    0.766100\n",
       "9666  (The, series, tells, the, story, of, Diego, Ma...    0.819886\n",
       "9667  (Harry, Brown, ,, starring, two, -, time, Acad...    0.842674\n",
       "\n",
       "[9668 rows x 2 columns]"
      ]
     },
     "execution_count": 13,
     "metadata": {},
     "output_type": "execute_result"
    }
   ],
   "source": [
    "similarityValue = []\n",
    "reference_doc = processed_texts[0]  # Assuming the first document is the reference\n",
    "\n",
    "for doc in processed_texts[0:]:\n",
    "    similarity = reference_doc.similarity(doc)\n",
    "    similarityValue.append(similarity)\n",
    "\n",
    "# Create a new column 'Similarity' in the DataFrame and assign the similarity values\n",
    "df['Similarity'] = similarityValue\n",
    "df[[\"processed_text_column\", \"Similarity\"]]"
   ]
  },
  {
   "cell_type": "markdown",
   "id": "1d06f7c0",
   "metadata": {},
   "source": [
    "<span style=\"color:red;font-weight:bold;font-size:larger;\">Explication :</span> \n",
    "\n",
    "Dans le code ci-dessus, nous avons calculé les valeurs de similarité entre chaque texte de la colonne 'processed_text_column' et un texte de référence (dans ce cas, le premier texte).\n",
    "\n",
    "Nous avons créé une liste vide 'similarityValue' pour stocker les valeurs de similarité. Ensuite, à l'aide d'une boucle, nous avons itéré sur chaque document prétraité et calculé la similarité entre le texte de référence et le document actuel à l'aide de la méthode 'similarity' de spaCy.\n",
    "\n",
    "Les valeurs de similarité ont été ajoutées à la liste 'similarityValue'. Enfin, nous avons créé une nouvelle colonne 'Similarity' dans le DataFrame et lui avons assigné les valeurs de similarité correspondantes. En affichant les colonnes 'processed_text_column' et 'Similarity' du DataFrame, vous pouvez voir les textes prétraités et leurs valeurs de similarité respectives par rapport au texte de référence.\n",
    "\n",
    "`Si la valeur de similarité est proche de 1, cela indique que les deux textes sont similaires ou ont des caractéristiques textuelles communes. Plus la valeur de similarité est élevée, plus les textes sont considérés comme étant similaires.`"
   ]
  },
  {
   "cell_type": "code",
   "execution_count": 14,
   "id": "d086fdf5",
   "metadata": {},
   "outputs": [
    {
     "name": "stdout",
     "output_type": "stream",
     "text": [
      "Amazon focuses more on movies in recent years.\n"
     ]
    }
   ],
   "source": [
    "# Netflix/Amazon/Disney se concentre-t-il davantage sur les séries télévisées que sur les films ces dernières années ?\n",
    "\n",
    "recent_years = df[df['release_year'] >= 2019] \n",
    "\n",
    "tv_show_count = recent_years[recent_years['type'] == 'TV Show'].shape[0]\n",
    "movie_count = recent_years[recent_years['type'] == 'Movie'].shape[0]\n",
    "\n",
    "if tv_show_count > movie_count:\n",
    "    print(\"Amazon focuses more on TV shows in recent years.\")\n",
    "else:\n",
    "    print(\"Amazon focuses more on movies in recent years.\")\n",
    "\n",
    "#df[\"type\"].value_counts()\n"
   ]
  },
  {
   "cell_type": "markdown",
   "id": "60a4dcc6",
   "metadata": {},
   "source": [
    "<span style=\"color:red;font-weight:bold;font-size:larger;\">Explication :</span> \n",
    "\n",
    "Pour déterminer si Amazon se concentre davantage sur les séries télévisées que sur les films ces dernières années, nous avons filtré les données pour ne conserver que les enregistrements des années 2019 et ultérieures. Ensuite, nous avons compté le nombre de séries télévisées (TV Show) et de films (Movies) dans cet ensemble de données récent. Si le nombre de séries télévisées est supérieur au nombre de films, cela indique que Amazon se concentre davantage sur les séries télévisées. Sinon, cela signifie qu'ils se concentrent davantage sur les films."
   ]
  },
  {
   "cell_type": "code",
   "execution_count": 15,
   "id": "9d252219",
   "metadata": {
    "scrolled": true
   },
   "outputs": [
    {
     "data": {
      "image/png": "[encoded data removed]",
      "text/plain": [
       "<Figure size 640x480 with 1 Axes>"
      ]
     },
     "metadata": {},
     "output_type": "display_data"
    }
   ],
   "source": [
    "# Comment le nombre de films varie-t-il en fonction de release year?\n",
    "\n",
    "data_movies = df[(df['release_year'] >= 2018) & (df['type'] == 'Movie')]['release_year'].value_counts().sort_index()\n",
    "# Créer le graphique à barres\n",
    "data_movies.plot(kind='bar', color=['#1f77b4', '#ff7f0e'])\n",
    "# Ajouter des labels et un titre\n",
    "plt.xlabel('Année')\n",
    "plt.ylabel('Nombre de films')\n",
    "plt.title('Nombre de films par année (à partir de 2018)')\n",
    "# Afficher le graphique\n",
    "plt.show()\n"
   ]
  },
  {
   "cell_type": "markdown",
   "id": "d71bedea",
   "metadata": {},
   "source": [
    "<span style=\"color:red;font-weight:bold;font-size:larger;\">Explication :</span> \n",
    "\n",
    "Le code en haut permet de créer un graphique à barres montrant le nombre de films par année à partir de 2018. Les données sont extraites du DataFrame df en filtrant les enregistrements avec l'année de sortie supérieure ou égale à 2018 et le type qui est ' film'. Ensuite, les valeurs sont comptées et triées par année. Le graphique est créé en utilisant la fonction plot avec le paramètre kind défini sur \"bar\" et les couleurs spécifiées. Les axes x et y sont étiquetés, et un titre est ajouté. Enfin, le graphique est affiché en utilisant plt.show().\n",
    "\n",
    "En observant le graphique à barres, on constate une tendance croissante dans le nombre de films depuis l'année 2018 jusqu'à 2021. Cela suggère une augmentation de la production cinématographique au cours de ces dernières années."
   ]
  },
  {
   "cell_type": "code",
   "execution_count": 17,
   "id": "5fc1b8f7",
   "metadata": {},
   "outputs": [
    {
     "data": {
      "image/png": "[encoded data removed]",
      "text/plain": [
       "<Figure size 640x480 with 1 Axes>"
      ]
     },
     "metadata": {},
     "output_type": "display_data"
    }
   ],
   "source": [
    "type_counts = df[\"type\"].value_counts()\n",
    "# Créer le graphique circulaire\n",
    "plt.pie(type_counts, labels=type_counts.index, autopct='%1.1f%%', startangle=90)\n",
    "\n",
    "# Ajouter un titre\n",
    "plt.title(\"Répartition des types de contenu\")\n",
    "\n",
    "# Afficher le graphique\n",
    "plt.show()"
   ]
  },
  {
   "cell_type": "markdown",
   "id": "393d2699",
   "metadata": {},
   "source": [
    "<span style=\"color:red;font-weight:bold;font-size:larger;\">Explication :</span> \n",
    "\n",
    "Ce code crée un graphique circulaire qui représente la répartition des types de contenu dans le dataframe. La fonction plt.pie prend en entrée les valeurs de décompte de chaque type de contenu (obtenues avec df[\"type\"].value_counts()), les labels correspondants (les types de contenu), le formatage du pourcentage (autopct='%1.1f%%' pour afficher un chiffre avec une décimale) et l'angle de départ du graphique (90 degrés dans ce cas). La fonction plt.title ajoute un titre au graphique. Enfin, plt.show() affiche le graphique. Cela permet de visualiser facilement la répartition relative des types de contenu, en montrant la proportion de chaque type sous forme de pourcentage.\n",
    "\n",
    "En observant le diagramme circulaire, nous constatons que les films représentent une grande majorité par rapport aux séries télévisées. En effet, les films occupent une part plus importante dans la répartition des types de contenu"
   ]
  },
  {
   "cell_type": "code",
   "execution_count": 18,
   "id": "3a7fa524",
   "metadata": {
    "scrolled": true
   },
   "outputs": [
    {
     "data": {
      "image/png": "[encoded data removed]",
      "text/plain": [
       "<Figure size 640x480 with 1 Axes>"
      ]
     },
     "metadata": {},
     "output_type": "display_data"
    }
   ],
   "source": [
    "country_counts = df['country'].value_counts().head(10)\n",
    "plt.barh(country_counts.index, country_counts.values)\n",
    "plt.xlabel('Nombre de contenus')\n",
    "plt.ylabel('Pays de production')\n",
    "plt.title('Répartition des pays de production des contenus')\n",
    "plt.show()\n"
   ]
  },
  {
   "cell_type": "markdown",
   "id": "63fec9fd",
   "metadata": {},
   "source": [
    "<span style=\"color:red;font-weight:bold;font-size:larger;\">Explication :</span> \n",
    "\n",
    "Ce code crée un graphique à barres horizontales pour représenter la répartition des pays de production des contenus. Les pays sont affichés sur l'axe des ordonnées et le nombre de contenus produits est affiché sur l'axe des abscisses.\n",
    "\n",
    "En observant le graphique, on peut constater que les États-Unis (United States) produisent un nombre considérable de contenus par rapport aux autres pays. Ils sont en tête de liste avec un nombre significatif de contenus, ce qui indique leur forte contribution à l'industrie du divertissement."
   ]
  }
 ],
 "metadata": {
  "kernelspec": {
   "display_name": "Python 3 (ipykernel)",
   "language": "python",
   "name": "python3"
  },
  "language_info": {
   "codemirror_mode": {
    "name": "ipython",
    "version": 3
   },
   "file_extension": ".py",
   "mimetype": "text/x-python",
   "name": "python",
   "nbconvert_exporter": "python",
   "pygments_lexer": "ipython3",
   "version": "3.9.13"
  }
 },
 "nbformat": 4,
 "nbformat_minor": 5
}
